{
 "cells": [
  {
   "cell_type": "code",
   "execution_count": 2,
   "id": "8a80cffb",
   "metadata": {},
   "outputs": [
    {
     "name": "stdout",
     "output_type": "stream",
     "text": [
      "{'Western Australia': 'red', 'Northern Territory': 'green', 'South Australia': 'blue', 'Queensland': 'red', 'New South Wales': 'green', 'Victoria': 'red', 'Tasmania': 'green'}\n"
     ]
    }
   ],
   "source": [
    "# Activity 01\n",
    "# Map Coloring \n",
    "from typing import Dict, List, Optional\n",
    "\n",
    "\n",
    "class MapColoringConstraint(Constraint[str, str]):\n",
    "    def __init__(self, place1: str, place2: str) -> None:\n",
    "        super().__init__([place1, place2])\n",
    "        self.place1: str = place1\n",
    "        self.place2: str = place2\n",
    "\n",
    "    def satisfied(self, assignment: Dict[str, str]) -> bool:\n",
    "        # If either place is not in the assignment then it is not\n",
    "        # yet possible for their colors to be conflicting\n",
    "        if self.place1 not in assignment or self.place2 not in assignment:\n",
    "            return True\n",
    "        # check the color assigned to place1 is not the same as the\n",
    "        # color assigned to place2\n",
    "        return assignment[self.place1] != assignment[self.place2]\n",
    "\n",
    "\n",
    "if __name__ == \"__main__\":\n",
    "    variables: List[str] = [\"Western Australia\", \"Northern Territory\", \"South Australia\",\n",
    "                            \"Queensland\", \"New South Wales\", \"Victoria\", \"Tasmania\"]\n",
    "    domains: Dict[str, List[str]] = {}\n",
    "    for variable in variables:\n",
    "        domains[variable] = [\"red\", \"green\", \"blue\"]\n",
    "    csp: CSP[str, str] = CSP(variables, domains)\n",
    "    csp.add_constraint(MapColoringConstraint(\"Western Australia\", \"Northern Territory\"))\n",
    "    csp.add_constraint(MapColoringConstraint(\"Western Australia\", \"South Australia\"))\n",
    "    csp.add_constraint(MapColoringConstraint(\"South Australia\", \"Northern Territory\"))\n",
    "    csp.add_constraint(MapColoringConstraint(\"Queensland\", \"Northern Territory\"))\n",
    "    csp.add_constraint(MapColoringConstraint(\"Queensland\", \"South Australia\"))\n",
    "    csp.add_constraint(MapColoringConstraint(\"Queensland\", \"New South Wales\"))\n",
    "    csp.add_constraint(MapColoringConstraint(\"New South Wales\", \"South Australia\"))\n",
    "    csp.add_constraint(MapColoringConstraint(\"Victoria\", \"South Australia\"))\n",
    "    csp.add_constraint(MapColoringConstraint(\"Victoria\", \"New South Wales\"))\n",
    "    csp.add_constraint(MapColoringConstraint(\"Victoria\", \"Tasmania\"))\n",
    "    solution: Optional[Dict[str, str]] = csp.backtracking_search()\n",
    "    if solution is None:\n",
    "        print(\"No solution found!\")\n",
    "    else:\n",
    "        print(solution)"
   ]
  },
  {
   "cell_type": "code",
   "execution_count": 4,
   "id": "4ae4f357",
   "metadata": {},
   "outputs": [
    {
     "name": "stdout",
     "output_type": "stream",
     "text": [
      "{1: 2, 2: 4, 3: 1, 4: 3}\n"
     ]
    }
   ],
   "source": [
    "# Lab Task\n",
    "# Four Queens Problem using CSP\n",
    "from typing import Dict, List, Optional\n",
    "\n",
    "\n",
    "class QueensConstraint(Constraint[int, int]):\n",
    "    def __init__(self, columns: List[int]) -> None:\n",
    "        super().__init__(columns)\n",
    "        self.columns: List[int] = columns\n",
    "\n",
    "    def satisfied(self, assignment: Dict[int, int]) -> bool:\n",
    "        # q1c = queen 1 column, q1r = queen 1 row\n",
    "        for q1c, q1r in assignment.items():\n",
    "            # q2c = queen 2 column\n",
    "            for q2c in range(q1c + 1, len(self.columns) + 1):\n",
    "                if q2c in assignment:\n",
    "                    q2r: int = assignment[q2c] # q2r = queen 2 row\n",
    "                    if q1r == q2r: # same row?\n",
    "                        return False\n",
    "                    if abs(q1r - q2r) == abs(q1c - q2c): # same diagonal?\n",
    "                        return False\n",
    "        return True # no conflict\n",
    "\n",
    "\n",
    "if __name__ == \"__main__\":\n",
    "    columns: List[int] = [1, 2, 3, 4]\n",
    "    rows: Dict[int, List[int]] = {}\n",
    "    for column in columns:\n",
    "        rows[column] = [1, 2, 3, 4]\n",
    "    csp: CSP[int, int] = CSP(columns, rows)\n",
    "    csp.add_constraint(QueensConstraint(columns))\n",
    "    solution: Optional[Dict[int, int]] = csp.backtracking_search()\n",
    "    if solution is None:\n",
    "        print(\"No solution found!\")\n",
    "    else:\n",
    "        print(solution)"
   ]
  },
  {
   "cell_type": "code",
   "execution_count": null,
   "id": "0d34d283",
   "metadata": {},
   "outputs": [],
   "source": []
  }
 ],
 "metadata": {
  "kernelspec": {
   "display_name": "Python 3 (ipykernel)",
   "language": "python",
   "name": "python3"
  },
  "language_info": {
   "codemirror_mode": {
    "name": "ipython",
    "version": 3
   },
   "file_extension": ".py",
   "mimetype": "text/x-python",
   "name": "python",
   "nbconvert_exporter": "python",
   "pygments_lexer": "ipython3",
   "version": "3.10.6"
  }
 },
 "nbformat": 4,
 "nbformat_minor": 5
}
